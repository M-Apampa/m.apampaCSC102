{
 "cells": [
  {
   "cell_type": "code",
   "execution_count": 11,
   "id": "be020c2e",
   "metadata": {},
   "outputs": [
    {
     "ename": "SyntaxError",
     "evalue": "invalid syntax (637072853.py, line 1)",
     "output_type": "error",
     "traceback": [
      "\u001b[1;36m  Cell \u001b[1;32mIn[11], line 1\u001b[1;36m\u001b[0m\n\u001b[1;33m    def employee\u001b[0m\n\u001b[1;37m                ^\u001b[0m\n\u001b[1;31mSyntaxError\u001b[0m\u001b[1;31m:\u001b[0m invalid syntax\n"
     ]
    }
   ],
   "source": [
    "def employee"
   ]
  },
  {
   "cell_type": "code",
   "execution_count": 5,
   "id": "dcdb531a",
   "metadata": {},
   "outputs": [
    {
     "name": "stdout",
     "output_type": "stream",
     "text": [
      "How much does your package weigh?2\n",
      "Where is your package being delivered to?\n",
      "1.Ibeju-Lekki\n",
      "2.Epe\n",
      "4\n",
      "Invalid location.\n"
     ]
    }
   ],
   "source": [
    "weight = int(input(\"How much does your package weigh?\"))\n",
    "location= int(input(\"Where is your package being delivered to?\\n1.Ibeju-Lekki\\n2.Epe\\n\"))\n",
    "def package(weight,location):\n",
    "\n",
    "    if weight >= 10 and location == 1:\n",
    "        print(\"Total amount charged is N2000\")\n",
    "    elif weight < 10 and location == 1:\n",
    "        print(\"Total amount charged is N1500\")\n",
    "    elif weight >= 10 and location == 2:\n",
    "        print(\"Total amount charged is N5000\")\n",
    "    elif weight < 10 and location == 2:\n",
    "        print(\"Total amount charged is N4000\")\n",
    "    else:\n",
    "        print(\"Invalid location.\")\n",
    "        return;\n",
    "package(weight,location)\n"
   ]
  },
  {
   "cell_type": "code",
   "execution_count": 10,
   "id": "85b77773",
   "metadata": {},
   "outputs": [
    {
     "name": "stdout",
     "output_type": "stream",
     "text": [
      "What is your name?Oma\n",
      "Which department are you?\n",
      "Computer Science or Mass Communication?\n",
      "Mass Communication\n",
      "What was your Jamb score?\n",
      "120\n",
      "Did you get a Grade C and above in the followin subjects?\n",
      "Maths,English,History,Government,Economics\n",
      "1. Yes\n",
      "2. No\n",
      "1\n",
      "Did you pass your interview?\n",
      "1. Yes\n",
      "2. No\n",
      "1\n",
      "Success\n"
     ]
    }
   ],
   "source": [
    "import pandas as pd\n",
    "name= input(\"What is your name?\")\n",
    "dep = input(\"Which department are you?\\nComputer Science or Mass Communication?\\n\")\n",
    "\n",
    "def admitted(a,b,c):\n",
    "    adm={'Name':[a],\n",
    "        'Department':[b],\n",
    "         'Jamb Score':[c]}\n",
    "    df = pd.DataFrame(adm)\n",
    "    df.to_csv('admitted.csv');\n",
    "    print(\"Success\")\n",
    "    return;\n",
    "def unadmitted(a,b,c):\n",
    "    unadm={'Name':[a],\n",
    "        'Department':[b],\n",
    "         'Jamb Score':[c]}\n",
    "    df = pd.DataFrame(unadm)\n",
    "    df.to_csv('unadmitted.csv');\n",
    "    print(\"Success\")\n",
    "    return;\n",
    "    \n",
    "if dep == \"Computer Science\":\n",
    "    jamb_score=int(input(\"What was your Jamb score?\\n\"))\n",
    "    creditcs = int(input(\"Did you get a Grade C and above in the followin subjects?\\nMaths,English,Physics,Chemistry,Further Maths\\n1. Yes\\n2. No\\n\"))\n",
    "    interview= int(input(\"Did you pass your interview?\\n1. Yes\\n2. No\\n\"))\n",
    "    if jamb_score >=230 and creditcs == 1 and interview == 1:\n",
    "        admitted(name,dep,jamb_score)\n",
    "    else:\n",
    "        unadmitted(name,dep,jamb_score)\n",
    "elif dep == \"Mass Communication\":\n",
    "    jamb_score=int(input(\"What was your Jamb score?\\n\"))\n",
    "    creditsmc = int(input(\"Did you get a Grade C and above in the followin subjects?\\nMaths,English,History,Government,Economics\\n1. Yes\\n2. No\\n\"))\n",
    "    interview= int(input(\"Did you pass your interview?\\n1. Yes\\n2. No\\n\"))\n",
    "    if jamb_score >=230 and creditcs == 1 and interview == 1:\n",
    "        admitted(name,dep,jamb_score)\n",
    "    else:\n",
    "        unadmitted(name,dep,jamb_score)\n",
    "\n",
    "\n",
    "\n",
    "                "
   ]
  },
  {
   "cell_type": "code",
   "execution_count": null,
   "id": "b52895b6",
   "metadata": {},
   "outputs": [],
   "source": []
  }
 ],
 "metadata": {
  "kernelspec": {
   "display_name": "Python 3 (ipykernel)",
   "language": "python",
   "name": "python3"
  },
  "language_info": {
   "codemirror_mode": {
    "name": "ipython",
    "version": 3
   },
   "file_extension": ".py",
   "mimetype": "text/x-python",
   "name": "python",
   "nbconvert_exporter": "python",
   "pygments_lexer": "ipython3",
   "version": "3.10.9"
  }
 },
 "nbformat": 4,
 "nbformat_minor": 5
}
