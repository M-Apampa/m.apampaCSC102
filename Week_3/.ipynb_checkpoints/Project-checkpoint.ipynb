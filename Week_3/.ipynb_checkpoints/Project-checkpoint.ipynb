{
 "cells": [
  {
   "cell_type": "code",
   "execution_count": 2,
   "id": "2d297aa3",
   "metadata": {},
   "outputs": [
    {
     "name": "stdout",
     "output_type": "stream",
     "text": [
      "Enter the coefficient of x^3:7\n",
      "Enter the coefficient of x^2:0\n",
      "Enter the coefficient of x:9\n",
      "Enter the constant value:8\n",
      "The cubic equation is 7x^3 + 0x^2 + 9x + 8\n",
      "The discriminant is -14535\n",
      "The cubic equation has one real root and two imaginary roots.\n",
      "The roots of the cubic equation are -8.0,4.0+3.221589364467562i and 4.0-3.221589364467562i\n"
     ]
    },
    {
     "ename": "NameError",
     "evalue": "name 'discrimant' is not defined",
     "output_type": "error",
     "traceback": [
      "\u001b[1;31m---------------------------------------------------------------------------\u001b[0m",
      "\u001b[1;31mNameError\u001b[0m                                 Traceback (most recent call last)",
      "Cell \u001b[1;32mIn[2], line 29\u001b[0m\n\u001b[0;32m     26\u001b[0m     \u001b[38;5;28mprint\u001b[39m(\u001b[38;5;124m\"\u001b[39m\u001b[38;5;124mThe cubic equation has one real root and two imaginary roots.\u001b[39m\u001b[38;5;124m\"\u001b[39m)    \n\u001b[0;32m     27\u001b[0m     \u001b[38;5;28mprint\u001b[39m(\u001b[38;5;124mf\u001b[39m\u001b[38;5;124m\"\u001b[39m\u001b[38;5;124mThe roots of the cubic equation are \u001b[39m\u001b[38;5;132;01m{\u001b[39;00mx\u001b[38;5;132;01m}\u001b[39;00m\u001b[38;5;124m,\u001b[39m\u001b[38;5;132;01m{\u001b[39;00my\u001b[38;5;132;01m}\u001b[39;00m\u001b[38;5;124m+\u001b[39m\u001b[38;5;132;01m{\u001b[39;00mm\u001b[38;5;132;01m}\u001b[39;00m\u001b[38;5;124mi and \u001b[39m\u001b[38;5;132;01m{\u001b[39;00mz\u001b[38;5;132;01m}\u001b[39;00m\u001b[38;5;124m-\u001b[39m\u001b[38;5;132;01m{\u001b[39;00mm\u001b[38;5;132;01m}\u001b[39;00m\u001b[38;5;124mi\u001b[39m\u001b[38;5;124m\"\u001b[39m)\n\u001b[1;32m---> 29\u001b[0m \u001b[38;5;28;01mif\u001b[39;00m \u001b[43mdiscrimant\u001b[49m\u001b[38;5;241m>\u001b[39m\u001b[38;5;241m0\u001b[39m:\n\u001b[0;32m     30\u001b[0m     \u001b[38;5;28mprint\u001b[39m(\u001b[38;5;124m\"\u001b[39m\u001b[38;5;124mThe cubic equation has three dinstinct real roots.\u001b[39m\u001b[38;5;124m\"\u001b[39m)\n\u001b[0;32m     31\u001b[0m     \u001b[38;5;28mprint\u001b[39m(\u001b[38;5;124mf\u001b[39m\u001b[38;5;124m\"\u001b[39m\u001b[38;5;124mThe roots of the cubic equation are \u001b[39m\u001b[38;5;132;01m{\u001b[39;00mx\u001b[38;5;132;01m}\u001b[39;00m\u001b[38;5;124m,\u001b[39m\u001b[38;5;132;01m{\u001b[39;00my\u001b[38;5;241m+\u001b[39mm\u001b[38;5;132;01m}\u001b[39;00m\u001b[38;5;124m,\u001b[39m\u001b[38;5;132;01m{\u001b[39;00my\u001b[38;5;241m-\u001b[39mm\u001b[38;5;132;01m}\u001b[39;00m\u001b[38;5;124m\"\u001b[39m)\n",
      "\u001b[1;31mNameError\u001b[0m: name 'discrimant' is not defined"
     ]
    }
   ],
   "source": [
    "#Input from user\n",
    "A = int(input(\"Enter the coefficient of x^3:\"))\n",
    "B = int(input(\"Enter the coefficient of x^2:\"))\n",
    "C = int(input(\"Enter the coefficient of x:\"))\n",
    "D = int(input(\"Enter the constant value:\"))\n",
    "\n",
    "#Write out cubic equation\n",
    "print(f\"The cubic equation is {A}x^3 + {B}x^2 + {C}x + {D}\")\n",
    "\n",
    "#Find the discriminant\n",
    "discriminant = ((A**2)*(B**2) + (18*A*B*C) - (4*(B**3))- (4*(A**3)*C) - (27*(C**2)))\n",
    "\n",
    "print(\"The discriminant is\", discriminant)\n",
    "\n",
    "Q = ((3*C)- (B**2))/9\n",
    "R = ((9*B*C) - (27*D)- 2*(B**3))/54\n",
    "S = (R + (((Q**3) + (R**2))**0.5)**0.33)\n",
    "T = (R - (((Q**3) + (R**2))**0.5)**0.33)\n",
    "\n",
    "x = S + T - (B/3)\n",
    "y = -(S + T)/2 - (B/3) \n",
    "z = -(S + T)/2 - (B/3) \n",
    "m = (1.732 * (S-T))/2\n",
    "\n",
    "if discriminant<0:\n",
    "    print(\"The cubic equation has one real root and two imaginary roots.\")    \n",
    "    print(f\"The roots of the cubic equation are {x},{y}+{m}i and {z}-{m}i\")\n",
    "\n",
    "if discriminant>0:\n",
    "    print(\"The cubic equation has three dinstinct real roots.\")\n",
    "    print(f\"The roots of the cubic equation are {x},{y+m},{y-m}\")\n",
    "    \n"
   ]
  },
  {
   "cell_type": "code",
   "execution_count": null,
   "id": "06185f0d",
   "metadata": {},
   "outputs": [],
   "source": [
    "#Input from user\n",
    "A = int(input(\"Enter the coefficient of x^2:\")))\n",
    "B = int(input(\"Enter the coefficient of x:\"))\n",
    "C = int(input(\"Enter the constant value:\"))\n",
    "\n",
    "#Write out the quadratic equation\n",
    "print(f\"The cubic equation is {A}x^2 + {B}x + {C}\")\n",
    "\n",
    "m = (-B + (((B**2)-(4*A*C))**0.5))/(2*A)\n",
    "n = (-B - (((B**2)-(4*A*C))** 0.5))/(2*A)\n",
    "\n",
    "print(f\"The roots of the quadratic equation are {m} and {n}\")\n"
   ]
  },
  {
   "cell_type": "code",
   "execution_count": null,
   "id": "9c3678ef",
   "metadata": {},
   "outputs": [],
   "source": []
  },
  {
   "cell_type": "code",
   "execution_count": null,
   "id": "9703285e",
   "metadata": {},
   "outputs": [],
   "source": []
  }
 ],
 "metadata": {
  "kernelspec": {
   "display_name": "Python 3 (ipykernel)",
   "language": "python",
   "name": "python3"
  },
  "language_info": {
   "codemirror_mode": {
    "name": "ipython",
    "version": 3
   },
   "file_extension": ".py",
   "mimetype": "text/x-python",
   "name": "python",
   "nbconvert_exporter": "python",
   "pygments_lexer": "ipython3",
   "version": "3.10.9"
  }
 },
 "nbformat": 4,
 "nbformat_minor": 5
}
