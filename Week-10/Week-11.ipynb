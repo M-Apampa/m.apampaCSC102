{
 "cells": [
  {
   "cell_type": "code",
   "execution_count": 1,
   "id": "d79e4435",
   "metadata": {},
   "outputs": [
    {
     "name": "stdout",
     "output_type": "stream",
     "text": [
      "Welcome to the orange factory\n",
      "How many oranges do you want to buy?\n",
      "26\n",
      "Total cost of items: $5200\n",
      "Thank you for your patronage\n"
     ]
    }
   ],
   "source": [
    "class orange:\n",
    "    def __init__(self,stock=30):\n",
    "        self.stock = stock\n",
    "    def total(self):\n",
    "        print(\"Welcome to the orange factory\")\n",
    "        n= int(input(\"How many oranges do you want to buy?\\n\"))\n",
    "        if n <= self.stock:\n",
    "            print(f\"Total cost of items: ${n*200}\")\n",
    "            print(\"Thank you for your patronage\")\n",
    "        else:\n",
    "            print(\"Select lower quantity\")\n",
    "        \n",
    "a=orange()\n",
    "a.total()\n",
    "        "
   ]
  },
  {
   "cell_type": "code",
   "execution_count": 4,
   "id": "013aac33",
   "metadata": {},
   "outputs": [
    {
     "name": "stdout",
     "output_type": "stream",
     "text": [
      "Which shape do you have:\n",
      "1.Trapezium\n",
      "2.Rhombus\n",
      "3.Parallelogram\n",
      "4.Cube\n",
      "5.Cylinder\n",
      "1\n",
      "Input height value of trapezium:\n",
      "3\n",
      "Input base 1 value of trapezium:\n",
      "4\n",
      "Input base 2 value of trapezium:\n",
      "2\n",
      "The area of trapezium is: 9.0\n"
     ]
    }
   ],
   "source": [
    "class formula:\n",
    "    def __init__(self,base1,base2,diagonal2,radius,height,diagonal1,base,length):\n",
    "        self.base1 = base1\n",
    "        self.base2 = base2\n",
    "        self.diagonal2 = diagonal2 \n",
    "        self.radius = radius\n",
    "        self.height = height\n",
    "        self.diagonal1 = diagonal1\n",
    "        self.base = base\n",
    "        self.length = length\n",
    "    def trapezium(self):\n",
    "        self.height = height\n",
    "        self.base1 = base1\n",
    "        self.base2 = base2\n",
    "        areat = (self.height/2)*(self.base1+self.base2)\n",
    "        print(f\"The area of trapezium is: {areat}\")\n",
    "    def rhombus(self):\n",
    "        self.diagonal1 = diagonal1\n",
    "        self.diagonal2 = diagonal2 \n",
    "        arear = 0.5*self.diagonal1*self.diagonal2\n",
    "        print(f\"The area of rhombus is: {arear}\")\n",
    "    def parallelogram(self):\n",
    "        self.base = base\n",
    "        self.height = height\n",
    "        areap = self.base*self.height\n",
    "        print(f\"The area of parallelogram is: {areap}\")\n",
    "    def cube(self):\n",
    "        self.length = length\n",
    "        areac = 6*self.length*self.length\n",
    "        print(f\"The area of cube is: {areac}\")\n",
    "    def cylinder(self):\n",
    "        self.radius = radius\n",
    "        self.height = height\n",
    "        areacl = 3.142*self.radius*self.radius*self.height\n",
    "        print(f\"The volume of cylinder is: {areacl}\")\n",
    "shape= int(input(\"Which shape do you have:\\n1.Trapezium\\n2.Rhombus\\n3.Parallelogram\\n4.Cube\\n5.Cylinder\\n\"))\n",
    "if shape == 1:\n",
    "    height= int(input(\"Input height value of trapezium:\\n\"))\n",
    "    base1 = int(input(\"Input base 1 value of trapezium:\\n\"))\n",
    "    base2 = int(input(\"Input base 2 value of trapezium:\\n\"))\n",
    "    a=formula('','','','','','','','')\n",
    "    a.trapezium()\n",
    "if shape ==2:\n",
    "    diagonal1=int(input(\"Input first diagonal value of rhombus:\\n\"))\n",
    "    diagonal2=int(input(\"Input second diagonal value of rhombus:\\n\"))\n",
    "    a=formula('','','','','','','','')\n",
    "    a.rhombus()\n",
    "if shape == 3:\n",
    "    base=int(input(\"Input base value of parallelogram:\\n\"))\n",
    "    height= int(input(\"Input height value of parallelogram:\\n\"))\n",
    "    a=formula('','','','','','','','')\n",
    "    a.parallelogram()\n",
    "if shape == 4:\n",
    "    length= int(input(\"Input length of side of cube:\\n\"))\n",
    "    a=formula('','','','','','','','')\n",
    "    a.cube()\n",
    "if shape == 5:\n",
    "    radius=int(input(\"Input radius value of cylinder:\\n\"))\n",
    "    height= int(input(\"Input height value of cylinder:\\n\"))\n",
    "    a=formula('','','','','','','','')\n",
    "    a.cylinder()\n",
    "\n",
    "        \n",
    "        "
   ]
  },
  {
   "cell_type": "code",
   "execution_count": 8,
   "id": "9b4aae39",
   "metadata": {},
   "outputs": [
    {
     "name": "stdout",
     "output_type": "stream",
     "text": [
      "Worked fine\n"
     ]
    }
   ],
   "source": [
    "import pandas as pd\n",
    "drinks = {'Lager':['33 Export','Desperados','Goldberg','Gulder','Heineken','Star'],\n",
    "         'Stout': ['Legend','Turbo King','Williams','','',''],\n",
    "         'Non-Alcoholic': ['Maltina','Amstel Malta','Malta Gold','Fayrouz','','']}\n",
    "df = pd.DataFrame(drinks)\n",
    "\n",
    "class brewery():\n",
    "    def plc(self):\n",
    "        df.to_csv('Nigerian Breweries Plc.csv')\n",
    "p=brewery()\n",
    "p.plc()\n",
    "print(\"Worked fine\")"
   ]
  },
  {
   "cell_type": "code",
   "execution_count": null,
   "id": "835f3c33",
   "metadata": {},
   "outputs": [],
   "source": []
  }
 ],
 "metadata": {
  "kernelspec": {
   "display_name": "Python 3 (ipykernel)",
   "language": "python",
   "name": "python3"
  },
  "language_info": {
   "codemirror_mode": {
    "name": "ipython",
    "version": 3
   },
   "file_extension": ".py",
   "mimetype": "text/x-python",
   "name": "python",
   "nbconvert_exporter": "python",
   "pygments_lexer": "ipython3",
   "version": "3.10.9"
  }
 },
 "nbformat": 4,
 "nbformat_minor": 5
}
