{
 "cells": [
  {
   "cell_type": "code",
   "execution_count": 3,
   "id": "86d41c1c",
   "metadata": {},
   "outputs": [
    {
     "name": "stdout",
     "output_type": "stream",
     "text": [
      "What is your name?\n",
      "m\n",
      "Input your matric number:\n",
      "2\n",
      "Which department are you?\n",
      "w\n",
      "Which level are you?\n",
      "1\n",
      "  Student Name  Matric.Number Department  Level\n",
      "0            m              2          w      1\n"
     ]
    }
   ],
   "source": [
    "import pandas as pd\n",
    "class pau:\n",
    "    def dataframe(self):\n",
    "        df=pd.DataFrame(record)\n",
    "        print (df)\n",
    "        df.to_csv(\"PAU-SMIS.csv\")\n",
    "        return\n",
    "    \n",
    "name=input(\"What is your name?\\n\")\n",
    "matric_no=int(input(\"Input your matric number:\\n\"))\n",
    "dep=input(\"Which department are you?\\n\")\n",
    "level=int(input(\"Which level are you?\\n\"))\n",
    "record={\"Student Name\":[name],\n",
    "       \"Matric.Number\":[matric_no],\n",
    "       \"Department\":[dep],\n",
    "       \"Level\":[level]}\n",
    "a=pau()\n",
    "a.dataframe()\n",
    "    "
   ]
  },
  {
   "cell_type": "code",
   "execution_count": 6,
   "id": "bf8c1718",
   "metadata": {},
   "outputs": [],
   "source": [
    "import pandas as pd\n",
    "Percentage_leverage=((assets-liabilities)/assets)*100\n",
    "records={\"Company\":[\"Enron\",\"Anderson\",\"GK Jones\",\"Mica\",\"Dune\"],\n",
    "        \"Date Founded\":[1987,1936,2001,1996,2008],\n",
    "        \"Company's assets\":[1000000,1500000,3000000,250000,800000],\n",
    "        \"Company's liabilties\":[200000,500000,1500000,50000,300000],\n",
    "        \"Percentage Leverage\":[80,66.7,50,80,62.5]}\n",
    "df=pd.DataFrame(records)\n",
    "df.to_csv(\"Global Economy.csv\")"
   ]
  },
  {
   "cell_type": "code",
   "execution_count": null,
   "id": "61b7f579",
   "metadata": {},
   "outputs": [],
   "source": []
  }
 ],
 "metadata": {
  "kernelspec": {
   "display_name": "Python 3 (ipykernel)",
   "language": "python",
   "name": "python3"
  },
  "language_info": {
   "codemirror_mode": {
    "name": "ipython",
    "version": 3
   },
   "file_extension": ".py",
   "mimetype": "text/x-python",
   "name": "python",
   "nbconvert_exporter": "python",
   "pygments_lexer": "ipython3",
   "version": "3.10.9"
  }
 },
 "nbformat": 4,
 "nbformat_minor": 5
}
