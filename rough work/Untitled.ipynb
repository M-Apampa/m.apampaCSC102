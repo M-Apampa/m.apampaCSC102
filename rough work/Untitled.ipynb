{
 "cells": [
  {
   "cell_type": "code",
   "execution_count": null,
   "id": "bebebd00",
   "metadata": {},
   "outputs": [],
   "source": [
    "#Input from user\n",
    "A = int(input(\"Enter the coefficient of x^3\"))\n",
    "B = int(input(\"Enter the coefficient of x^2\"))\n",
    "C = int(input(\"Enter the coefficient of x\"))\n",
    "D = int(input(\"Enter the constant value\"))\n"
   ]
  },
  {
   "cell_type": "code",
   "execution_count": 3,
   "id": "547cc383",
   "metadata": {},
   "outputs": [
    {
     "name": "stdout",
     "output_type": "stream",
     "text": [
      "-9.703703703703704\n"
     ]
    }
   ],
   "source": [
    "R = ((9*B*C) - (27*D)- 2*(B**3))/54\n",
    "print (R)"
   ]
  },
  {
   "cell_type": "code",
   "execution_count": 4,
   "id": "9f9e78d1",
   "metadata": {},
   "outputs": [
    {
     "name": "stdout",
     "output_type": "stream",
     "text": [
      "-3.4444444444444446\n"
     ]
    }
   ],
   "source": [
    "Q = ((3*C)- (B**2))/9\n",
    "print (Q)"
   ]
  },
  {
   "cell_type": "code",
   "execution_count": 5,
   "id": "09fa3222",
   "metadata": {},
   "outputs": [
    {
     "name": "stdout",
     "output_type": "stream",
     "text": [
      "-7.776600337974434\n"
     ]
    }
   ],
   "source": [
    "S = (R + (((Q**3) + (R**2))**0.5)**0.33)\n",
    "print (S)\n",
    "    "
   ]
  },
  {
   "cell_type": "code",
   "execution_count": 6,
   "id": "072f5118",
   "metadata": {},
   "outputs": [
    {
     "name": "stdout",
     "output_type": "stream",
     "text": [
      "-11.630807069432974\n"
     ]
    }
   ],
   "source": [
    "T = (R - (((Q**3) + (R**2))**0.5)**0.33)\n",
    "print (T)\n"
   ]
  },
  {
   "cell_type": "code",
   "execution_count": 7,
   "id": "279cc59d",
   "metadata": {},
   "outputs": [
    {
     "name": "stdout",
     "output_type": "stream",
     "text": [
      "-21.74074074074074\n"
     ]
    }
   ],
   "source": [
    "x = S + T - (B/3)\n",
    "print (x)\n"
   ]
  },
  {
   "cell_type": "code",
   "execution_count": 12,
   "id": "6c351988",
   "metadata": {},
   "outputs": [
    {
     "name": "stdout",
     "output_type": "stream",
     "text": [
      "7.37037037037037\n",
      "3.337743029443095\n"
     ]
    }
   ],
   "source": [
    "y = -(S + T)/2 - (B/3) \n",
    "print (y)\n",
    "\n",
    "m = (1.732 * (S-T))/2\n",
    "print (m)\n"
   ]
  },
  {
   "cell_type": "code",
   "execution_count": 13,
   "id": "9288f931",
   "metadata": {},
   "outputs": [
    {
     "name": "stdout",
     "output_type": "stream",
     "text": [
      "7.37037037037037\n"
     ]
    }
   ],
   "source": [
    "z = -(S + T)/2 - (B/3) \n",
    "print (z)"
   ]
  },
  {
   "cell_type": "code",
   "execution_count": null,
   "id": "d1254538",
   "metadata": {},
   "outputs": [],
   "source": [
    "#Find the discriminant\n",
    "discriminant = ((A**2)*(B**2) + (18*A*B*C) - (4*(B**3))- (4*(A**3)*C) - (27*(C**2)))\n",
    "\n",
    "print(\"The discriminant is\", discriminant)\n",
    "\n",
    "if discrimant>0:\n",
    "    print(\"The cubic equation has three dinstinct real roots.\")\n",
    "    print(f\"The roots of the cubic equation are {x},{y+m},{y-m}\")\n",
    "    "
   ]
  },
  {
   "cell_type": "code",
   "execution_count": 15,
   "id": "20cc4fb0",
   "metadata": {},
   "outputs": [
    {
     "name": "stdout",
     "output_type": "stream",
     "text": [
      "The cubic equation has one real root and two imaginary roots.\n"
     ]
    }
   ],
   "source": [
    "print(\"The cubic equation has one real root and two imaginary roots.\")"
   ]
  },
  {
   "cell_type": "code",
   "execution_count": 23,
   "id": "c2a856d7",
   "metadata": {},
   "outputs": [
    {
     "name": "stdout",
     "output_type": "stream",
     "text": [
      "Enter the coefficient of x^2:1\n",
      "Enter the coefficient of x:5\n",
      "Enter the constant value:-14\n"
     ]
    }
   ],
   "source": [
    "A = int(input(\"Enter the coefficient of x^2:\"))\n",
    "B = int(input(\"Enter the coefficient of x:\"))\n",
    "C = int(input(\"Enter the constant value:\"))\n",
    "\n"
   ]
  },
  {
   "cell_type": "code",
   "execution_count": 24,
   "id": "10cd6067",
   "metadata": {},
   "outputs": [
    {
     "name": "stdout",
     "output_type": "stream",
     "text": [
      "The roots of the quadratic equation are 2.0 and -7.0\n"
     ]
    }
   ],
   "source": [
    "m = (-B + (((B**2)-(4*A*C))**0.5))/(2*A)\n",
    "n = (-B - (((B**2)-(4*A*C))** 0.5))/(2*A)\n",
    "print(f\"The roots of the quadratic equation are {m} and {n}\")\n",
    "\n",
    "\n"
   ]
  },
  {
   "cell_type": "code",
   "execution_count": null,
   "id": "c9b0f8a6",
   "metadata": {},
   "outputs": [],
   "source": [
    "print(f\"The roots of the quadratic equation are {m} and {n}\")"
   ]
  }
 ],
 "metadata": {
  "kernelspec": {
   "display_name": "Python 3 (ipykernel)",
   "language": "python",
   "name": "python3"
  },
  "language_info": {
   "codemirror_mode": {
    "name": "ipython",
    "version": 3
   },
   "file_extension": ".py",
   "mimetype": "text/x-python",
   "name": "python",
   "nbconvert_exporter": "python",
   "pygments_lexer": "ipython3",
   "version": "3.9.12"
  }
 },
 "nbformat": 4,
 "nbformat_minor": 5
}
