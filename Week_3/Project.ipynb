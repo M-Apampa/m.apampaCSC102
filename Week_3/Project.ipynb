{
 "cells": [
  {
   "cell_type": "code",
   "execution_count": 2,
   "id": "2d297aa3",
   "metadata": {},
   "outputs": [
    {
     "name": "stderr",
     "output_type": "stream",
     "text": [
      "<>:16: SyntaxWarning: 'int' object is not callable; perhaps you missed a comma?\n",
      "<>:16: SyntaxWarning: 'int' object is not callable; perhaps you missed a comma?\n"
     ]
    },
    {
     "name": "stdout",
     "output_type": "stream",
     "text": [
      "Enter the coefficient of x^3:4\n",
      "Enter the coefficient of x^2:5\n",
      "Enter the coefficient of x:6\n",
      "Enter the constant value:5\n",
      "The cubic equation is 4x^3 + 5x^2 + 6x + 5\n",
      "The discriminant is -448\n"
     ]
    },
    {
     "name": "stderr",
     "output_type": "stream",
     "text": [
      "C:\\Users\\Apampa\\AppData\\Local\\Temp\\ipykernel_15396\\1186904861.py:16: SyntaxWarning: 'int' object is not callable; perhaps you missed a comma?\n",
      "  R = ((9*B*C) - (27*D)- 2(B**3))/54\n",
      "C:\\Users\\Apampa\\AppData\\Local\\Temp\\ipykernel_15396\\1186904861.py:16: SyntaxWarning: 'int' object is not callable; perhaps you missed a comma?\n",
      "  R = ((9*B*C) - (27*D)- 2(B**3))/54\n",
      "C:\\Users\\Apampa\\AppData\\Local\\Temp\\ipykernel_15396\\1186904861.py:16: SyntaxWarning: 'int' object is not callable; perhaps you missed a comma?\n",
      "  R = ((9*B*C) - (27*D)- 2(B**3))/54\n"
     ]
    },
    {
     "ename": "TypeError",
     "evalue": "'int' object is not callable",
     "output_type": "error",
     "traceback": [
      "\u001b[1;31m---------------------------------------------------------------------------\u001b[0m",
      "\u001b[1;31mTypeError\u001b[0m                                 Traceback (most recent call last)",
      "Input \u001b[1;32mIn [2]\u001b[0m, in \u001b[0;36m<cell line: 16>\u001b[1;34m()\u001b[0m\n\u001b[0;32m     13\u001b[0m \u001b[38;5;28mprint\u001b[39m(\u001b[38;5;124m\"\u001b[39m\u001b[38;5;124mThe discriminant is\u001b[39m\u001b[38;5;124m\"\u001b[39m, discriminant)\n\u001b[0;32m     15\u001b[0m Q \u001b[38;5;241m=\u001b[39m ((\u001b[38;5;241m3\u001b[39m\u001b[38;5;241m*\u001b[39mC)\u001b[38;5;241m-\u001b[39m (B\u001b[38;5;241m*\u001b[39m\u001b[38;5;241m*\u001b[39m\u001b[38;5;241m2\u001b[39m))\u001b[38;5;241m/\u001b[39m\u001b[38;5;241m9\u001b[39m\n\u001b[1;32m---> 16\u001b[0m R \u001b[38;5;241m=\u001b[39m ((\u001b[38;5;241m9\u001b[39m\u001b[38;5;241m*\u001b[39mB\u001b[38;5;241m*\u001b[39mC) \u001b[38;5;241m-\u001b[39m (\u001b[38;5;241m27\u001b[39m\u001b[38;5;241m*\u001b[39mD)\u001b[38;5;241m-\u001b[39m \u001b[38;5;241;43m2\u001b[39;49m\u001b[43m(\u001b[49m\u001b[43mB\u001b[49m\u001b[38;5;241;43m*\u001b[39;49m\u001b[38;5;241;43m*\u001b[39;49m\u001b[38;5;241;43m3\u001b[39;49m\u001b[43m)\u001b[49m)\u001b[38;5;241m/\u001b[39m\u001b[38;5;241m54\u001b[39m\n\u001b[0;32m     17\u001b[0m S \u001b[38;5;241m=\u001b[39m (R \u001b[38;5;241m+\u001b[39m (((Q\u001b[38;5;241m*\u001b[39m\u001b[38;5;241m*\u001b[39m\u001b[38;5;241m3\u001b[39m) \u001b[38;5;241m+\u001b[39m (R\u001b[38;5;241m*\u001b[39m\u001b[38;5;241m*\u001b[39m\u001b[38;5;241m2\u001b[39m))\u001b[38;5;241m*\u001b[39m\u001b[38;5;241m*\u001b[39m\u001b[38;5;241m0.5\u001b[39m)\u001b[38;5;241m*\u001b[39m\u001b[38;5;241m*\u001b[39m\u001b[38;5;241m0.33\u001b[39m)\n\u001b[0;32m     18\u001b[0m T \u001b[38;5;241m=\u001b[39m (R \u001b[38;5;241m-\u001b[39m (((Q\u001b[38;5;241m*\u001b[39m\u001b[38;5;241m*\u001b[39m\u001b[38;5;241m3\u001b[39m) \u001b[38;5;241m+\u001b[39m (R\u001b[38;5;241m*\u001b[39m\u001b[38;5;241m*\u001b[39m\u001b[38;5;241m2\u001b[39m))\u001b[38;5;241m*\u001b[39m\u001b[38;5;241m*\u001b[39m\u001b[38;5;241m0.5\u001b[39m)\u001b[38;5;241m*\u001b[39m\u001b[38;5;241m*\u001b[39m\u001b[38;5;241m0.33\u001b[39m)\n",
      "\u001b[1;31mTypeError\u001b[0m: 'int' object is not callable"
     ]
    }
   ],
   "source": [
    "#Input from user\n",
    "A = int(input(\"Enter the coefficient of x^3:\"))\n",
    "B = int(input(\"Enter the coefficient of x^2:\"))\n",
    "C = int(input(\"Enter the coefficient of x:\"))\n",
    "D = int(input(\"Enter the constant value:\"))\n",
    "\n",
    "#Write out cubic equation\n",
    "print(f\"The cubic equation is {A}x^3 + {B}x^2 + {C}x + {D}\")\n",
    "\n",
    "#Find the discriminant\n",
    "discriminant = ((A**2)*(B**2) + (18*A*B*C) - (4*(B**3))- (4*(A**3)*C) - (27*(C**2)))\n",
    "\n",
    "print(\"The discriminant is\", discriminant)\n",
    "\n",
    "Q = ((3*C)- (B**2))/9\n",
    "R = ((9*B*C) - (27*D)- 2(B**3))/54\n",
    "S = (R + (((Q**3) + (R**2))**0.5)**0.33)\n",
    "T = (R - (((Q**3) + (R**2))**0.5)**0.33)\n",
    "\n",
    "x = S + T - (B/3)\n",
    "y = -(S + T)/2 - (B/3) \n",
    "z = -(S + T)/2 - (B/3) \n",
    "m = (1.732 * (S-T))/2\n",
    "\n",
    "if discriminant<0:\n",
    "    print(\"The cubic equation has one real root and two imaginary roots.\")    \n",
    "    print(f\"The roots of the cubic equation are {x},{y}+{m}i and {z}-{m}i\")\n",
    "\n",
    "if discrimant>0:\n",
    "    print(\"The cubic equation has three dinstinct real roots.\")\n",
    "    print(f\"The roots of the cubic equation are {x},{y+m},{y-m}\")\n",
    "    \n"
   ]
  },
  {
   "cell_type": "code",
   "execution_count": null,
   "id": "06185f0d",
   "metadata": {},
   "outputs": [],
   "source": [
    "#Input from user\n",
    "A = int(input(\"Enter the coefficient of x^2:\")))\n",
    "B = int(input(\"Enter the coefficient of x:\"))\n",
    "C = int(input(\"Enter the constant value:\"))\n",
    "\n",
    "#Write out the quadratic equation\n",
    "print(f\"The cubic equation is {A}x^2 + {B}x + {C}\")\n",
    "\n",
    "m = (-B + (((B**2)-(4*A*C))**0.5))/(2*A)\n",
    "n = (-B - (((B**2)-(4*A*C))** 0.5))/(2*A)\n",
    "\n",
    "print(f\"The roots of the quadratic equation are {m} and {n}\")\n"
   ]
  },
  {
   "cell_type": "code",
   "execution_count": null,
   "id": "9c3678ef",
   "metadata": {},
   "outputs": [],
   "source": []
  },
  {
   "cell_type": "code",
   "execution_count": null,
   "id": "9703285e",
   "metadata": {},
   "outputs": [],
   "source": []
  }
 ],
 "metadata": {
  "kernelspec": {
   "display_name": "Python 3 (ipykernel)",
   "language": "python",
   "name": "python3"
  },
  "language_info": {
   "codemirror_mode": {
    "name": "ipython",
    "version": 3
   },
   "file_extension": ".py",
   "mimetype": "text/x-python",
   "name": "python",
   "nbconvert_exporter": "python",
   "pygments_lexer": "ipython3",
   "version": "3.9.12"
  }
 },
 "nbformat": 4,
 "nbformat_minor": 5
}
