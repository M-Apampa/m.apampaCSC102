{
 "cells": [
  {
   "cell_type": "code",
   "execution_count": 1,
   "id": "3ad95c8a",
   "metadata": {},
   "outputs": [
    {
     "name": "stdout",
     "output_type": "stream",
     "text": [
      "Enter name of City 1:mecca\n",
      "Enter name of City 2:lagos\n",
      "The name of City 1 after swapping is lagos\n",
      "The name of City 2 after swapping is mecca\n"
     ]
    }
   ],
   "source": [
    "#Python programto swap two cities\n",
    "\n",
    "#To take inputs from the user\n",
    "city_1 = input('Enter name of City 1:')\n",
    "city_2 = input('Enter name of City 2:')\n",
    "\n",
    "#create a temporary variable and swap the cities\n",
    "temp = city_1\n",
    "city_1 = city_2\n",
    "city_2 = temp\n",
    "\n",
    "print (f\"The name of City 1 after swapping is {city_1}\")\n",
    "print (f\"The name of City 2 after swapping is {city_2}\")\n"
   ]
  },
  {
   "cell_type": "code",
   "execution_count": 2,
   "id": "a01d3279",
   "metadata": {},
   "outputs": [
    {
     "name": "stdout",
     "output_type": "stream",
     "text": [
      "Enter a number:2\n",
      "Positive number\n"
     ]
    }
   ],
   "source": [
    "#Program to check if a Number is Positive,Negative or 0\n",
    "\n",
    "num = float(input(\"Enter a number:\"))\n",
    "if num > 0:\n",
    "    print(\"Positive number\")\n",
    "elif num == 0:\n",
    "    print(\"Zero\")\n",
    "else:\n",
    "    print(\"Negative number\")"
   ]
  },
  {
   "cell_type": "code",
   "execution_count": 3,
   "id": "ee7ec5ea",
   "metadata": {},
   "outputs": [
    {
     "name": "stdout",
     "output_type": "stream",
     "text": [
      "Welcome to the COUPE DE ESCRIVA 2023:FOOTBALL PICKS  \n",
      "\n",
      "Madiba: Chubby Obiara-Okafo\n",
      "Blue-Jays: Christopher Uweh\n",
      "Cirok: Alexander\n",
      "TSG Walkers: Ikechukwu\n",
      "\n",
      "\n",
      "Madiba: Chubgy Obiara-Okafo\n",
      "Blue-Jays: Oladimeji Abaniwonda/Jeffery Awagu\n",
      "Cirok: Timileyin Pearse/Izuako Jeremy\n",
      "TSG Walkers: Ayomide Ojituku\n"
     ]
    }
   ],
   "source": [
    "#COUPE DE ESCRIVA 2023:FOOTBALL PICKS\n",
    "\n",
    "print(\"Welcome to the COUPE DE ESCRIVA 2023:FOOTBALL PICKS  \\n\")\n",
    "\n",
    "captain = {'Madiba:': 'Chubby Obiara-Okafo', 'Blue-Jays:' : 'Christopher Uweh','Cirok:' : 'Alexander' , 'TSG Walkers:' : 'Ikechukwu'}\n",
    "\n",
    "goalkeepers = {'Madiba:' : 'Chubgy Obiara-Okafo',\n",
    "              'Blue-Jays:' : 'Oladimeji Abaniwonda/Jeffery Awagu',\n",
    "              'Cirok:' : 'Timileyin Pearse/Izuako Jeremy',\n",
    "              'TSG Walkers:' : 'Ayomide Ojituku'}\n",
    "\n",
    "for pick in captain:\n",
    "    print(pick,captain[pick])\n",
    "    \n",
    "print(\"\\n\")\n",
    "\n",
    "for pick in goalkeepers:\n",
    "    print(pick, goalkeepers[pick])"
   ]
  },
  {
   "cell_type": "code",
   "execution_count": null,
   "id": "2b3b4b92",
   "metadata": {},
   "outputs": [],
   "source": []
  }
 ],
 "metadata": {
  "kernelspec": {
   "display_name": "Python 3 (ipykernel)",
   "language": "python",
   "name": "python3"
  },
  "language_info": {
   "codemirror_mode": {
    "name": "ipython",
    "version": 3
   },
   "file_extension": ".py",
   "mimetype": "text/x-python",
   "name": "python",
   "nbconvert_exporter": "python",
   "pygments_lexer": "ipython3",
   "version": "3.9.12"
  }
 },
 "nbformat": 4,
 "nbformat_minor": 5
}
