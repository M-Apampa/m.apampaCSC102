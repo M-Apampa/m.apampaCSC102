{
 "cells": [
  {
   "cell_type": "code",
   "execution_count": 2,
   "id": "461fbf4b",
   "metadata": {},
   "outputs": [
    {
     "name": "stdout",
     "output_type": "stream",
     "text": [
      "Enter the coefficient of x^36\n",
      "Enter the coefficient of x^27\n",
      "Enter the coefficient of x6\n",
      "Enter the constant value8\n"
     ]
    }
   ],
   "source": [
    "#Input from user\n",
    "A = int(input(\"Enter the coefficient of x^3\"))\n",
    "B = int(input(\"Enter the coefficient of x^2\"))\n",
    "C = int(input(\"Enter the coefficient of x\"))\n",
    "D = int(input(\"Enter the constant value\"))\n"
   ]
  },
  {
   "cell_type": "code",
   "execution_count": 3,
   "id": "119f42b6",
   "metadata": {},
   "outputs": [
    {
     "name": "stdout",
     "output_type": "stream",
     "text": [
      "-9.703703703703704\n"
     ]
    }
   ],
   "source": [
    "R = ((9*B*C) - (27*D)- 2*(B**3))/54\n",
    "print (R)"
   ]
  },
  {
   "cell_type": "code",
   "execution_count": 4,
   "id": "fb2dee71",
   "metadata": {},
   "outputs": [
    {
     "name": "stdout",
     "output_type": "stream",
     "text": [
      "-3.4444444444444446\n"
     ]
    }
   ],
   "source": [
    "Q = ((3*C)- (B**2))/9\n",
    "print (Q)"
   ]
  },
  {
   "cell_type": "code",
   "execution_count": 5,
   "id": "351a09a7",
   "metadata": {},
   "outputs": [
    {
     "name": "stdout",
     "output_type": "stream",
     "text": [
      "-7.776600337974434\n"
     ]
    }
   ],
   "source": [
    "S = (R + (((Q**3) + (R**2))**0.5)**0.33)\n",
    "print (S)\n",
    "    "
   ]
  },
  {
   "cell_type": "code",
   "execution_count": 6,
   "id": "f42aa74b",
   "metadata": {},
   "outputs": [
    {
     "name": "stdout",
     "output_type": "stream",
     "text": [
      "-11.630807069432974\n"
     ]
    }
   ],
   "source": [
    "T = (R - (((Q**3) + (R**2))**0.5)**0.33)\n",
    "print (T)\n"
   ]
  },
  {
   "cell_type": "code",
   "execution_count": 7,
   "id": "9aa25771",
   "metadata": {},
   "outputs": [
    {
     "name": "stdout",
     "output_type": "stream",
     "text": [
      "-21.74074074074074\n"
     ]
    }
   ],
   "source": [
    "x = S + T - (B/3)\n",
    "print (x)\n"
   ]
  },
  {
   "cell_type": "code",
   "execution_count": 12,
   "id": "fb6428d7",
   "metadata": {},
   "outputs": [
    {
     "name": "stdout",
     "output_type": "stream",
     "text": [
      "7.37037037037037\n",
      "3.337743029443095\n"
     ]
    }
   ],
   "source": [
    "y = -(S + T)/2 - (B/3) \n",
    "print (y)\n",
    "\n",
    "m = (1.732 * (S-T))/2\n",
    "print (m)\n"
   ]
  },
  {
   "cell_type": "code",
   "execution_count": 13,
   "id": "bedc5a99",
   "metadata": {},
   "outputs": [
    {
     "name": "stdout",
     "output_type": "stream",
     "text": [
      "7.37037037037037\n"
     ]
    }
   ],
   "source": [
    "z = -(S + T)/2 - (B/3) \n",
    "print (z)"
   ]
  },
  {
   "cell_type": "code",
   "execution_count": 14,
   "id": "9be220cd",
   "metadata": {},
   "outputs": [
    {
     "name": "stdout",
     "output_type": "stream",
     "text": [
      "The roots of the cubic equation are -21.74074074074074,7.37037037037037+3.337743029443095i and 7.37037037037037-3.337743029443095i\n"
     ]
    }
   ],
   "source": [
    "print(f\"The roots of the cubic equation are {x},{y}+{m}i and {z}-{m}i\")"
   ]
  },
  {
   "cell_type": "code",
   "execution_count": null,
   "id": "d29f05f3",
   "metadata": {},
   "outputs": [],
   "source": []
  }
 ],
 "metadata": {
  "kernelspec": {
   "display_name": "Python 3 (ipykernel)",
   "language": "python",
   "name": "python3"
  },
  "language_info": {
   "codemirror_mode": {
    "name": "ipython",
    "version": 3
   },
   "file_extension": ".py",
   "mimetype": "text/x-python",
   "name": "python",
   "nbconvert_exporter": "python",
   "pygments_lexer": "ipython3",
   "version": "3.9.12"
  }
 },
 "nbformat": 4,
 "nbformat_minor": 5
}
