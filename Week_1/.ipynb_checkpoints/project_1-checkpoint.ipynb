{
 "cells": [
  {
   "cell_type": "code",
   "execution_count": 4,
   "id": "f66e309d",
   "metadata": {},
   "outputs": [
    {
     "name": "stdout",
     "output_type": "stream",
     "text": [
      "Input pricipal amount:2\n",
      "Input rate:3\n",
      "Input the number of years:4\n",
      "The amount is 2.24\n"
     ]
    }
   ],
   "source": [
    "#python program to print simple interest\n",
    "p = int(input(\"Input pricipal amount:\"))\n",
    "r = int(input(\"Input rate:\"))\n",
    "t = int(input(\"Input the number of years:\"))\n",
    "b = r/100\n",
    "A = p*(1+(b*t))\n",
    "print(\"The amount is\", A)"
   ]
  },
  {
   "cell_type": "code",
   "execution_count": 8,
   "id": "489ceecf",
   "metadata": {},
   "outputs": [
    {
     "name": "stdout",
     "output_type": "stream",
     "text": [
      "Input pricipal amount:22\n",
      "Input rate:2\n",
      "Input time:2\n",
      "Input number of periods:2\n",
      "The amount is 352.0\n"
     ]
    }
   ],
   "source": [
    "#python program to calculate compound interest\n",
    "p = int(input(\"Input pricipal amount:\"))\n",
    "r = int(input(\"Input rate:\"))\n",
    "t = int(input(\"Input time:\"))\n",
    "n = int(input(\"Input number of periods:\"))\n",
    "m = n*t\n",
    "k = r/n\n",
    "A= p*((1+k)**m)\n",
    "print(\"The amount is\", A)\n",
    "\n"
   ]
  },
  {
   "cell_type": "code",
   "execution_count": 9,
   "id": "c93e188a",
   "metadata": {},
   "outputs": [
    {
     "name": "stdout",
     "output_type": "stream",
     "text": [
      "Input pricipal amount:222\n",
      "Input rate:2\n",
      "Input time:2\n",
      "Input number of periods:2\n",
      "The amount is 3330.0\n"
     ]
    }
   ],
   "source": [
    "#python program to calculate annuity plan\n",
    "p = int(input(\"Input pricipal amount:\"))\n",
    "r = int(input(\"Input rate:\"))\n",
    "t = int(input(\"Input time:\"))\n",
    "n = int(input(\"Input number of periods:\"))\n",
    "c = n*t\n",
    "k = r/n\n",
    "d = ((1+k)**c)-1\n",
    "A = (p*d)/k\n",
    "print(\"The amount is\", A)\n",
    "\n",
    "\n"
   ]
  },
  {
   "cell_type": "code",
   "execution_count": null,
   "id": "c972a5ce",
   "metadata": {},
   "outputs": [],
   "source": []
  }
 ],
 "metadata": {
  "kernelspec": {
   "display_name": "Python 3 (ipykernel)",
   "language": "python",
   "name": "python3"
  },
  "language_info": {
   "codemirror_mode": {
    "name": "ipython",
    "version": 3
   },
   "file_extension": ".py",
   "mimetype": "text/x-python",
   "name": "python",
   "nbconvert_exporter": "python",
   "pygments_lexer": "ipython3",
   "version": "3.9.12"
  }
 },
 "nbformat": 4,
 "nbformat_minor": 5
}
