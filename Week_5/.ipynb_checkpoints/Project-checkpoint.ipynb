{
 "cells": [
  {
   "cell_type": "code",
   "execution_count": 5,
   "id": "5aa8ddc7",
   "metadata": {},
   "outputs": [
    {
     "name": "stdout",
     "output_type": "stream",
     "text": [
      "Name | Age | Height | Score\n"
     ]
    },
    {
     "ename": "TypeError",
     "evalue": "len() takes exactly one argument (4 given)",
     "output_type": "error",
     "traceback": [
      "\u001b[1;31m---------------------------------------------------------------------------\u001b[0m",
      "\u001b[1;31mTypeError\u001b[0m                                 Traceback (most recent call last)",
      "Input \u001b[1;32mIn [5]\u001b[0m, in \u001b[0;36m<cell line: 21>\u001b[1;34m()\u001b[0m\n\u001b[0;32m     17\u001b[0m boys_score \u001b[38;5;241m=\u001b[39m [\u001b[38;5;241m74\u001b[39m,\u001b[38;5;241m87\u001b[39m,\u001b[38;5;241m75\u001b[39m,\u001b[38;5;241m68\u001b[39m,\u001b[38;5;241m66\u001b[39m,\u001b[38;5;241m78\u001b[39m,\u001b[38;5;241m87\u001b[39m,\u001b[38;5;241m98\u001b[39m,\u001b[38;5;241m54\u001b[39m,\u001b[38;5;241m60\u001b[39m]\n\u001b[0;32m     19\u001b[0m \u001b[38;5;28mprint\u001b[39m(\u001b[38;5;124m'\u001b[39m\u001b[38;5;124mName | Age | Height | Score\u001b[39m\u001b[38;5;124m'\u001b[39m)\n\u001b[1;32m---> 21\u001b[0m \u001b[38;5;28;01mfor\u001b[39;00m m \u001b[38;5;129;01min\u001b[39;00m \u001b[38;5;28mrange\u001b[39m(\u001b[38;5;28;43mlen\u001b[39;49m\u001b[43m(\u001b[49m\u001b[43mgirls_name\u001b[49m\u001b[43m,\u001b[49m\u001b[43mgirls_age\u001b[49m\u001b[43m,\u001b[49m\u001b[43mgirls_height\u001b[49m\u001b[43m,\u001b[49m\u001b[43mgirls_score\u001b[49m\u001b[43m)\u001b[49m):\n\u001b[0;32m     22\u001b[0m     \u001b[38;5;28mprint\u001b[39m(m,girls_name[m],girls_age[m],girls_height[m],girls_score[m])\n",
      "\u001b[1;31mTypeError\u001b[0m: len() takes exactly one argument (4 given)"
     ]
    }
   ],
   "source": [
    "#Project 1\n",
    "\n",
    "girls_name = ['Samantha','Jada','Jane','Claire','Elizabeth','Mary','Susan','Waje','Taibat','Lilian']\n",
    "\n",
    "girls_age = [17,16,17,18,16,18,17,20,19,17]\n",
    "\n",
    "girls_height = [5.5,6.0,5.4,5.9,5.6,5.5,6.1,6.0,5.7,5.5]\n",
    "\n",
    "girls_score = [80,85,70,60,76,66,87,95,50,49]\n",
    "\n",
    "boys_name = ['Charles','Jude','James','kelvin','Biodun','Wale','Kunle','Matthew','Tom','Kayode']\n",
    "\n",
    "boys_age = [19,16,18,17,20,19,16,18,17,19]\n",
    "\n",
    "boys_height = [5.7,5.9,5.8,6.1,5.9,5.5,6.1,5.4,5.8,5.7]\n",
    "\n",
    "boys_score = [74,87,75,68,66,78,87,98,54,60]\n",
    "\n",
    "print('Name | Age | Height | Score')\n",
    "\n",
    "for m in range(len(girls_name)):\n",
    "    print(girls_name[m],girls_age[m],girls_height[m],girls_score[m])\n"
   ]
  },
  {
   "cell_type": "code",
   "execution_count": null,
   "id": "c915ca62",
   "metadata": {},
   "outputs": [],
   "source": []
  }
 ],
 "metadata": {
  "kernelspec": {
   "display_name": "Python 3 (ipykernel)",
   "language": "python",
   "name": "python3"
  },
  "language_info": {
   "codemirror_mode": {
    "name": "ipython",
    "version": 3
   },
   "file_extension": ".py",
   "mimetype": "text/x-python",
   "name": "python",
   "nbconvert_exporter": "python",
   "pygments_lexer": "ipython3",
   "version": "3.9.12"
  }
 },
 "nbformat": 4,
 "nbformat_minor": 5
}
