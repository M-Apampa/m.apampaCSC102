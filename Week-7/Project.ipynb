{
 "cells": [
  {
   "cell_type": "code",
   "execution_count": 10,
   "id": "be020c2e",
   "metadata": {},
   "outputs": [
    {
     "name": "stdout",
     "output_type": "stream",
     "text": [
      "What is your name?Adewumi \n",
      "What department are you?Accounting\n",
      "Employee does not exist.\n"
     ]
    }
   ],
   "source": [
    "import pandas as pd\n",
    "name=input(\"What is your name?\")\n",
    "department=input(\"What department are you?\")\n",
    "def employee(name,department):\n",
    "    data = pd.read_csv(\"jt-ventures.csv\")\n",
    "    df=list(data)\n",
    "    if name in data:\n",
    "        print(f\"Welcome to JT ventures {name}\")\n",
    "        print (data)\n",
    "        return;\n",
    "    else:\n",
    "        print(\"Employee does not exist.\")\n",
    "employee(name,department)"
   ]
  },
  {
   "cell_type": "code",
   "execution_count": 11,
   "id": "7aab2ed3",
   "metadata": {},
   "outputs": [
    {
     "name": "stdout",
     "output_type": "stream",
     "text": [
      "What is your name?Adewumi\n",
      "What department are you?Accounting\n"
     ]
    },
    {
     "ename": "NameError",
     "evalue": "name 'row' is not defined",
     "output_type": "error",
     "traceback": [
      "\u001b[1;31m---------------------------------------------------------------------------\u001b[0m",
      "\u001b[1;31mNameError\u001b[0m                                 Traceback (most recent call last)",
      "Cell \u001b[1;32mIn[11], line 13\u001b[0m\n\u001b[0;32m     11\u001b[0m     \u001b[38;5;28;01melse\u001b[39;00m:\n\u001b[0;32m     12\u001b[0m         \u001b[38;5;28mprint\u001b[39m(\u001b[38;5;124m\"\u001b[39m\u001b[38;5;124mEmployee does not exist.\u001b[39m\u001b[38;5;124m\"\u001b[39m)\n\u001b[1;32m---> 13\u001b[0m \u001b[43memployee\u001b[49m\u001b[43m(\u001b[49m\u001b[43mname\u001b[49m\u001b[43m,\u001b[49m\u001b[43mdepartment\u001b[49m\u001b[43m)\u001b[49m\n",
      "Cell \u001b[1;32mIn[11], line 7\u001b[0m, in \u001b[0;36memployee\u001b[1;34m(name, department)\u001b[0m\n\u001b[0;32m      5\u001b[0m data \u001b[38;5;241m=\u001b[39m pd\u001b[38;5;241m.\u001b[39mread_csv(\u001b[38;5;124m\"\u001b[39m\u001b[38;5;124mjt-ventures.csv\u001b[39m\u001b[38;5;124m\"\u001b[39m)\n\u001b[0;32m      6\u001b[0m df\u001b[38;5;241m=\u001b[39m\u001b[38;5;28mlist\u001b[39m(data)\n\u001b[1;32m----> 7\u001b[0m \u001b[38;5;28;01mif\u001b[39;00m \u001b[43mrow\u001b[49m[\u001b[38;5;241m0\u001b[39m]\u001b[38;5;241m==\u001b[39mname \u001b[38;5;129;01mand\u001b[39;00m row[\u001b[38;5;241m1\u001b[39m]\u001b[38;5;241m==\u001b[39mdepartment:\n\u001b[0;32m      8\u001b[0m     \u001b[38;5;28mprint\u001b[39m(\u001b[38;5;124mf\u001b[39m\u001b[38;5;124m\"\u001b[39m\u001b[38;5;124mWelcome to JT ventures \u001b[39m\u001b[38;5;132;01m{\u001b[39;00mname\u001b[38;5;132;01m}\u001b[39;00m\u001b[38;5;124m\"\u001b[39m)\n\u001b[0;32m      9\u001b[0m     \u001b[38;5;28mprint\u001b[39m (\u001b[38;5;124mf\u001b[39m\u001b[38;5;124m\"\u001b[39m\u001b[38;5;124mCompany profile \u001b[39m\u001b[38;5;132;01m{\u001b[39;00mrow[\u001b[38;5;241m2\u001b[39m]\u001b[38;5;132;01m}\u001b[39;00m\u001b[38;5;124m\"\u001b[39m)\n",
      "\u001b[1;31mNameError\u001b[0m: name 'row' is not defined"
     ]
    }
   ],
   "source": [
    "import pandas as pd\n",
    "name=input(\"What is your name?\")\n",
    "department=input(\"What department are you?\")\n",
    "def employee(name,department):\n",
    "    data = pd.read_csv(\"jt-ventures.csv\")\n",
    "    df=list(data)\n",
    "    if row[0]==name and row[1]==department:\n",
    "        print(f\"Welcome to JT ventures {name}\")\n",
    "        print (f\"Company profile {row[2]}\")\n",
    "        return;\n",
    "    else:\n",
    "        print(\"Employee does not exist.\")\n",
    "employee(name,department)"
   ]
  },
  {
   "cell_type": "code",
   "execution_count": 5,
   "id": "dcdb531a",
   "metadata": {},
   "outputs": [
    {
     "name": "stdout",
     "output_type": "stream",
     "text": [
      "How much does your package weigh?2\n",
      "Where is your package being delivered to?\n",
      "1.Ibeju-Lekki\n",
      "2.Epe\n",
      "4\n",
      "Invalid location.\n"
     ]
    }
   ],
   "source": [
    "weight = int(input(\"How much does your package weigh?\"))\n",
    "location= int(input(\"Where is your package being delivered to?\\n1.Ibeju-Lekki\\n2.Epe\\n\"))\n",
    "def package(weight,location):\n",
    "\n",
    "    if weight >= 10 and location == 1:\n",
    "        print(\"Total amount charged is N2000\")\n",
    "    elif weight < 10 and location == 1:\n",
    "        print(\"Total amount charged is N1500\")\n",
    "    elif weight >= 10 and location == 2:\n",
    "        print(\"Total amount charged is N5000\")\n",
    "    elif weight < 10 and location == 2:\n",
    "        print(\"Total amount charged is N4000\")\n",
    "    else:\n",
    "        print(\"Invalid location.\")\n",
    "        return;\n",
    "package(weight,location)\n"
   ]
  },
  {
   "cell_type": "code",
   "execution_count": 10,
   "id": "85b77773",
   "metadata": {},
   "outputs": [
    {
     "name": "stdout",
     "output_type": "stream",
     "text": [
      "What is your name?Oma\n",
      "Which department are you?\n",
      "Computer Science or Mass Communication?\n",
      "Mass Communication\n",
      "What was your Jamb score?\n",
      "120\n",
      "Did you get a Grade C and above in the followin subjects?\n",
      "Maths,English,History,Government,Economics\n",
      "1. Yes\n",
      "2. No\n",
      "1\n",
      "Did you pass your interview?\n",
      "1. Yes\n",
      "2. No\n",
      "1\n",
      "Success\n"
     ]
    }
   ],
   "source": [
    "import pandas as pd\n",
    "name= input(\"What is your name?\")\n",
    "dep = input(\"Which department are you?\\nComputer Science or Mass Communication?\\n\")\n",
    "\n",
    "def admitted(a,b,c):\n",
    "    adm={'Name':[a],\n",
    "        'Department':[b],\n",
    "         'Jamb Score':[c]}\n",
    "    df = pd.DataFrame(adm)\n",
    "    df.to_csv('admitted.csv');\n",
    "    print(\"Success\")\n",
    "    return;\n",
    "def unadmitted(a,b,c):\n",
    "    unadm={'Name':[a],\n",
    "        'Department':[b],\n",
    "         'Jamb Score':[c]}\n",
    "    df = pd.DataFrame(unadm)\n",
    "    df.to_csv('unadmitted.csv');\n",
    "    print(\"Success\")\n",
    "    return;\n",
    "    \n",
    "if dep == \"Computer Science\":\n",
    "    jamb_score=int(input(\"What was your Jamb score?\\n\"))\n",
    "    creditcs = int(input(\"Did you get a Grade C and above in the followin subjects?\\nMaths,English,Physics,Chemistry,Further Maths\\n1. Yes\\n2. No\\n\"))\n",
    "    interview= int(input(\"Did you pass your interview?\\n1. Yes\\n2. No\\n\"))\n",
    "    if jamb_score >=230 and creditcs == 1 and interview == 1:\n",
    "        admitted(name,dep,jamb_score)\n",
    "    else:\n",
    "        unadmitted(name,dep,jamb_score)\n",
    "elif dep == \"Mass Communication\":\n",
    "    jamb_score=int(input(\"What was your Jamb score?\\n\"))\n",
    "    creditsmc = int(input(\"Did you get a Grade C and above in the followin subjects?\\nMaths,English,History,Government,Economics\\n1. Yes\\n2. No\\n\"))\n",
    "    interview= int(input(\"Did you pass your interview?\\n1. Yes\\n2. No\\n\"))\n",
    "    if jamb_score >=230 and creditcs == 1 and interview == 1:\n",
    "        admitted(name,dep,jamb_score)\n",
    "    else:\n",
    "        unadmitted(name,dep,jamb_score)\n",
    "\n",
    "\n",
    "\n",
    "                "
   ]
  },
  {
   "cell_type": "code",
   "execution_count": null,
   "id": "b52895b6",
   "metadata": {},
   "outputs": [],
   "source": []
  }
 ],
 "metadata": {
  "kernelspec": {
   "display_name": "Python 3 (ipykernel)",
   "language": "python",
   "name": "python3"
  },
  "language_info": {
   "codemirror_mode": {
    "name": "ipython",
    "version": 3
   },
   "file_extension": ".py",
   "mimetype": "text/x-python",
   "name": "python",
   "nbconvert_exporter": "python",
   "pygments_lexer": "ipython3",
   "version": "3.10.9"
  }
 },
 "nbformat": 4,
 "nbformat_minor": 5
}
