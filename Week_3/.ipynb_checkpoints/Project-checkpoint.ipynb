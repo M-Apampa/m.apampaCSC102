{
 "cells": [
  {
   "cell_type": "code",
   "execution_count": null,
   "id": "6924b86c",
   "metadata": {},
   "outputs": [],
   "source": [
    "#Input from user\n",
    "A = int(input(\"Enter the coefficient of x^3:\")))\n",
    "B = int(input(\"Enter the coefficient of x^2:\"))\n",
    "C = int(input(\"Enter the coefficient of x:\"))\n",
    "D = int(input(\"Enter the constant value:\"))\n",
    "\n",
    "#Write out cubic equation\n",
    "print(f\"The cubic equation is {A}x^3 + {B}x^2 + {C}x + {D}\")\n",
    "\n",
    "#Find the discriminant\n",
    "discriminant = ((A**2)*(B**2) + (18*A*B*C) - (4*(B**3))- (4*(A**3)*C) - (27*(C**2)))\n",
    "\n",
    "print(\"The discriminant is\", discriminant)\n",
    "\n",
    "if discriminant>0:\n",
    "    print(\"The cubic equation has one real root and two imaginary roots.\")\n",
    "    Q = ((3*C)- (B**2))/9\n",
    "    R = ((9*B*C) - (27*D)- 2(B**3))/54\n",
    "    S = (R + (((Q**3) + (R**2))**0.5)**0.33)\n",
    "    T = (R - (((Q**3) + (R**2))**0.5)**0.33)\n",
    "    \n",
    "    #1 real root and 2 Complex roots\n",
    "    x = S + T - (B/3)\n",
    "    y = -(S + T)/2 - (B/3) \n",
    "    z = -(S + T)/2 - (B/3) \n",
    "    m = (1.732 * (S-T))/2\n",
    "    \n",
    "    print(f\"The roots of the cubic equation are {x},{y}+{m}i and {z}-{m}i\")\n",
    "\n",
    "if discrimant == 0:\n",
    "    \n"
   ]
  },
  {
   "cell_type": "code",
   "execution_count": null,
   "id": "eb0f31dc",
   "metadata": {},
   "outputs": [],
   "source": [
    "#Input from user\n",
    "A = int(input(\"Enter the coefficient of x^2:\")))\n",
    "B = int(input(\"Enter the coefficient of x^2))\n",
    "C = int(input(\"Enter the coefficient of x:\"))"
   ]
  },
  {
   "cell_type": "code",
   "execution_count": null,
   "id": "c628a269",
   "metadata": {},
   "outputs": [],
   "source": []
  },
  {
   "cell_type": "code",
   "execution_count": null,
   "id": "4c4558ad",
   "metadata": {},
   "outputs": [],
   "source": []
  }
 ],
 "metadata": {
  "kernelspec": {
   "display_name": "Python 3 (ipykernel)",
   "language": "python",
   "name": "python3"
  },
  "language_info": {
   "codemirror_mode": {
    "name": "ipython",
    "version": 3
   },
   "file_extension": ".py",
   "mimetype": "text/x-python",
   "name": "python",
   "nbconvert_exporter": "python",
   "pygments_lexer": "ipython3",
   "version": "3.9.12"
  }
 },
 "nbformat": 4,
 "nbformat_minor": 5
}
